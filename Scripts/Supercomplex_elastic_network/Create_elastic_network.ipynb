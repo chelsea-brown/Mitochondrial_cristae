{
 "cells": [
  {
   "cell_type": "code",
   "execution_count": 1,
   "id": "507edb28-d755-4c18-80c4-f249f89c7c0f",
   "metadata": {},
   "outputs": [],
   "source": [
    "import numpy as np"
   ]
  },
  {
   "cell_type": "code",
   "execution_count": 2,
   "id": "c9f8b913-08cd-413c-88f0-5486b4c9cea5",
   "metadata": {},
   "outputs": [],
   "source": [
    "grofile = 'Complex_I-cg.gro'\n",
    "\n",
    "with open(grofile) as gro:\n",
    "    gro.readline()\n",
    "    natoms = int(gro.readline())\n",
    "    atoms = [ gro.readline() for _ in range(natoms) ]\n",
    "\n",
    "bb = np.loadtxt([ line[20:] for line in atoms if 'BB' in line ])\n",
    "bb2id = np.array([ idx for idx, line in enumerate(atoms) if 'BB' in line ])"
   ]
  },
  {
   "cell_type": "code",
   "execution_count": 3,
   "id": "99632313-0e8d-4b5e-b175-70bebb280db2",
   "metadata": {},
   "outputs": [],
   "source": [
    "breaks = np.where((np.diff(bb, axis=0) ** 2).sum(axis=1) > 0.20)[0] + 1\n",
    "chains = np.split(bb, breaks)"
   ]
  },
  {
   "cell_type": "code",
   "execution_count": 4,
   "id": "31a5b5a1-9883-4669-a260-c041296734ac",
   "metadata": {},
   "outputs": [],
   "source": [
    "distances = {\n",
    "    (i, j): ((pi[:, None] - pj[None, :])**2).sum(axis=2)\n",
    "    for i, pi in enumerate(chains[:-1])\n",
    "    for j, pj in enumerate(chains[i+1:], i+1)\n",
    "}\n",
    "contacts = { pair: np.where(dists < 1) for pair, dists in distances.items() }"
   ]
  },
  {
   "cell_type": "code",
   "execution_count": 5,
   "id": "9672796c-3f53-43f2-a353-e4badc8a74c6",
   "metadata": {},
   "outputs": [],
   "source": [
    "chainshift = [0, *np.cumsum([len(c) for c in chains])]\n",
    "itp = open('elastic_band.itp', \"w\")\n",
    "#print(';[ intermolecular_interactions ]')\n",
    "for i in range(len(chains)):\n",
    "    for j in range(i+1, len(chains)):\n",
    "        print(f'; Elastic bonds for proteins {i} and {j}', file=itp)\n",
    "        print(*[\n",
    "            f'{ai + 1 :6d}\\t{aj + 1 :6d}\\t1\\t{d:8.5f}\\t500' for ai, aj, d in zip(\n",
    "                bb2id[contacts[(i, j)][0] + chainshift[i]],\n",
    "                bb2id[contacts[(i, j)][1] + chainshift[j]],\n",
    "                distances[(i,j)][contacts[(i,j)][0], contacts[(i, j)][1]] ** 0.5\n",
    "        )\n",
    "        ], sep='\\n', file=itp)\n"
   ]
  },
  {
   "cell_type": "code",
   "execution_count": 6,
   "id": "a77405b4-aa8f-4a38-990c-33edbe70d9fb",
   "metadata": {},
   "outputs": [
    {
     "data": {
      "text/plain": [
       "array([], dtype=int64)"
      ]
     },
     "execution_count": 6,
     "metadata": {},
     "output_type": "execute_result"
    }
   ],
   "source": [
    "#contacts[(0, 1)]\n",
    "bb2id[contacts[(0, 1)][0]]"
   ]
  },
  {
   "cell_type": "code",
   "execution_count": null,
   "id": "48ef020d-b266-4681-b57a-fa45200b5f7d",
   "metadata": {},
   "outputs": [],
   "source": []
  }
 ],
 "metadata": {
  "kernelspec": {
   "display_name": "Python 3 (ipykernel)",
   "language": "python",
   "name": "python3"
  },
  "language_info": {
   "codemirror_mode": {
    "name": "ipython",
    "version": 3
   },
   "file_extension": ".py",
   "mimetype": "text/x-python",
   "name": "python",
   "nbconvert_exporter": "python",
   "pygments_lexer": "ipython3",
   "version": "3.10.12"
  }
 },
 "nbformat": 4,
 "nbformat_minor": 5
}
